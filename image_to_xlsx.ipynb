{
 "cells": [
  {
   "cell_type": "code",
   "execution_count": 26,
   "id": "2969f985",
   "metadata": {},
   "outputs": [],
   "source": [
    "import cv2\n",
    "import plotly.express as px\n",
    "import openpyxl\n",
    "import openpyxl.styles\n",
    "\n"
   ]
  },
  {
   "cell_type": "code",
   "execution_count": 12,
   "id": "dbb61d89",
   "metadata": {},
   "outputs": [],
   "source": [
    "img = cv2.imread(\"./data/emoji_cowboy.png\")\n",
    "img = cv2.resize(img, (128,128))\n",
    "img = cv2.cvtColor(img, cv2.COLOR_BGR2RGB)"
   ]
  },
  {
   "cell_type": "code",
   "execution_count": 9,
   "id": "1b120e6a",
   "metadata": {},
   "outputs": [
    {
     "data": {
      "text/plain": [
       "(256, 256, 3)"
      ]
     },
     "execution_count": 9,
     "metadata": {},
     "output_type": "execute_result"
    }
   ],
   "source": [
    "img.shape"
   ]
  },
  {
   "cell_type": "code",
   "execution_count": 13,
   "id": "036cbdec",
   "metadata": {},
   "outputs": [
    {
     "data": {
      "application/vnd.plotly.v1+json": {
       "config": {
        "plotlyServerURL": "https://plot.ly"
       },
       "data": [
        {
         "hovertemplate": "x: %{x}<br>y: %{y}<br>color: [%{z[0]}, %{z[1]}, %{z[2]}]<extra></extra>",
         "name": "0",
         "source": "data:image/png;base64,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",
         "type": "image",
         "xaxis": "x",
         "yaxis": "y"
        }
       ],
       "layout": {
        "height": 256,
        "margin": {
         "t": 60
        },
        "template": {
         "data": {
          "bar": [
           {
            "error_x": {
             "color": "rgb(51,51,51)"
            },
            "error_y": {
             "color": "rgb(51,51,51)"
            },
            "marker": {
             "line": {
              "color": "rgb(237,237,237)",
              "width": 0.5
             },
             "pattern": {
              "fillmode": "overlay",
              "size": 10,
              "solidity": 0.2
             }
            },
            "type": "bar"
           }
          ],
          "barpolar": [
           {
            "marker": {
             "line": {
              "color": "rgb(237,237,237)",
              "width": 0.5
             },
             "pattern": {
              "fillmode": "overlay",
              "size": 10,
              "solidity": 0.2
             }
            },
            "type": "barpolar"
           }
          ],
          "carpet": [
           {
            "aaxis": {
             "endlinecolor": "rgb(51,51,51)",
             "gridcolor": "white",
             "linecolor": "white",
             "minorgridcolor": "white",
             "startlinecolor": "rgb(51,51,51)"
            },
            "baxis": {
             "endlinecolor": "rgb(51,51,51)",
             "gridcolor": "white",
             "linecolor": "white",
             "minorgridcolor": "white",
             "startlinecolor": "rgb(51,51,51)"
            },
            "type": "carpet"
           }
          ],
          "choropleth": [
           {
            "colorbar": {
             "outlinewidth": 0,
             "tickcolor": "rgb(237,237,237)",
             "ticklen": 6,
             "ticks": "inside"
            },
            "type": "choropleth"
           }
          ],
          "contour": [
           {
            "colorbar": {
             "outlinewidth": 0,
             "tickcolor": "rgb(237,237,237)",
             "ticklen": 6,
             "ticks": "inside"
            },
            "colorscale": [
             [
              0,
              "rgb(20,44,66)"
             ],
             [
              1,
              "rgb(90,179,244)"
             ]
            ],
            "type": "contour"
           }
          ],
          "contourcarpet": [
           {
            "colorbar": {
             "outlinewidth": 0,
             "tickcolor": "rgb(237,237,237)",
             "ticklen": 6,
             "ticks": "inside"
            },
            "type": "contourcarpet"
           }
          ],
          "heatmap": [
           {
            "colorbar": {
             "outlinewidth": 0,
             "tickcolor": "rgb(237,237,237)",
             "ticklen": 6,
             "ticks": "inside"
            },
            "colorscale": [
             [
              0,
              "rgb(20,44,66)"
             ],
             [
              1,
              "rgb(90,179,244)"
             ]
            ],
            "type": "heatmap"
           }
          ],
          "histogram": [
           {
            "marker": {
             "pattern": {
              "fillmode": "overlay",
              "size": 10,
              "solidity": 0.2
             }
            },
            "type": "histogram"
           }
          ],
          "histogram2d": [
           {
            "colorbar": {
             "outlinewidth": 0,
             "tickcolor": "rgb(237,237,237)",
             "ticklen": 6,
             "ticks": "inside"
            },
            "colorscale": [
             [
              0,
              "rgb(20,44,66)"
             ],
             [
              1,
              "rgb(90,179,244)"
             ]
            ],
            "type": "histogram2d"
           }
          ],
          "histogram2dcontour": [
           {
            "colorbar": {
             "outlinewidth": 0,
             "tickcolor": "rgb(237,237,237)",
             "ticklen": 6,
             "ticks": "inside"
            },
            "colorscale": [
             [
              0,
              "rgb(20,44,66)"
             ],
             [
              1,
              "rgb(90,179,244)"
             ]
            ],
            "type": "histogram2dcontour"
           }
          ],
          "mesh3d": [
           {
            "colorbar": {
             "outlinewidth": 0,
             "tickcolor": "rgb(237,237,237)",
             "ticklen": 6,
             "ticks": "inside"
            },
            "type": "mesh3d"
           }
          ],
          "parcoords": [
           {
            "line": {
             "colorbar": {
              "outlinewidth": 0,
              "tickcolor": "rgb(237,237,237)",
              "ticklen": 6,
              "ticks": "inside"
             }
            },
            "type": "parcoords"
           }
          ],
          "pie": [
           {
            "automargin": true,
            "type": "pie"
           }
          ],
          "scatter": [
           {
            "fillpattern": {
             "fillmode": "overlay",
             "size": 10,
             "solidity": 0.2
            },
            "type": "scatter"
           }
          ],
          "scatter3d": [
           {
            "line": {
             "colorbar": {
              "outlinewidth": 0,
              "tickcolor": "rgb(237,237,237)",
              "ticklen": 6,
              "ticks": "inside"
             }
            },
            "marker": {
             "colorbar": {
              "outlinewidth": 0,
              "tickcolor": "rgb(237,237,237)",
              "ticklen": 6,
              "ticks": "inside"
             }
            },
            "type": "scatter3d"
           }
          ],
          "scattercarpet": [
           {
            "marker": {
             "colorbar": {
              "outlinewidth": 0,
              "tickcolor": "rgb(237,237,237)",
              "ticklen": 6,
              "ticks": "inside"
             }
            },
            "type": "scattercarpet"
           }
          ],
          "scattergeo": [
           {
            "marker": {
             "colorbar": {
              "outlinewidth": 0,
              "tickcolor": "rgb(237,237,237)",
              "ticklen": 6,
              "ticks": "inside"
             }
            },
            "type": "scattergeo"
           }
          ],
          "scattergl": [
           {
            "marker": {
             "colorbar": {
              "outlinewidth": 0,
              "tickcolor": "rgb(237,237,237)",
              "ticklen": 6,
              "ticks": "inside"
             }
            },
            "type": "scattergl"
           }
          ],
          "scattermap": [
           {
            "marker": {
             "colorbar": {
              "outlinewidth": 0,
              "tickcolor": "rgb(237,237,237)",
              "ticklen": 6,
              "ticks": "inside"
             }
            },
            "type": "scattermap"
           }
          ],
          "scattermapbox": [
           {
            "marker": {
             "colorbar": {
              "outlinewidth": 0,
              "tickcolor": "rgb(237,237,237)",
              "ticklen": 6,
              "ticks": "inside"
             }
            },
            "type": "scattermapbox"
           }
          ],
          "scatterpolar": [
           {
            "marker": {
             "colorbar": {
              "outlinewidth": 0,
              "tickcolor": "rgb(237,237,237)",
              "ticklen": 6,
              "ticks": "inside"
             }
            },
            "type": "scatterpolar"
           }
          ],
          "scatterpolargl": [
           {
            "marker": {
             "colorbar": {
              "outlinewidth": 0,
              "tickcolor": "rgb(237,237,237)",
              "ticklen": 6,
              "ticks": "inside"
             }
            },
            "type": "scatterpolargl"
           }
          ],
          "scatterternary": [
           {
            "marker": {
             "colorbar": {
              "outlinewidth": 0,
              "tickcolor": "rgb(237,237,237)",
              "ticklen": 6,
              "ticks": "inside"
             }
            },
            "type": "scatterternary"
           }
          ],
          "surface": [
           {
            "colorbar": {
             "outlinewidth": 0,
             "tickcolor": "rgb(237,237,237)",
             "ticklen": 6,
             "ticks": "inside"
            },
            "colorscale": [
             [
              0,
              "rgb(20,44,66)"
             ],
             [
              1,
              "rgb(90,179,244)"
             ]
            ],
            "type": "surface"
           }
          ],
          "table": [
           {
            "cells": {
             "fill": {
              "color": "rgb(237,237,237)"
             },
             "line": {
              "color": "white"
             }
            },
            "header": {
             "fill": {
              "color": "rgb(217,217,217)"
             },
             "line": {
              "color": "white"
             }
            },
            "type": "table"
           }
          ]
         },
         "layout": {
          "annotationdefaults": {
           "arrowhead": 0,
           "arrowwidth": 1
          },
          "autotypenumbers": "strict",
          "coloraxis": {
           "colorbar": {
            "outlinewidth": 0,
            "tickcolor": "rgb(237,237,237)",
            "ticklen": 6,
            "ticks": "inside"
           }
          },
          "colorscale": {
           "sequential": [
            [
             0,
             "rgb(20,44,66)"
            ],
            [
             1,
             "rgb(90,179,244)"
            ]
           ],
           "sequentialminus": [
            [
             0,
             "rgb(20,44,66)"
            ],
            [
             1,
             "rgb(90,179,244)"
            ]
           ]
          },
          "colorway": [
           "#F8766D",
           "#A3A500",
           "#00BF7D",
           "#00B0F6",
           "#E76BF3"
          ],
          "font": {
           "color": "rgb(51,51,51)"
          },
          "geo": {
           "bgcolor": "white",
           "lakecolor": "white",
           "landcolor": "rgb(237,237,237)",
           "showlakes": true,
           "showland": true,
           "subunitcolor": "white"
          },
          "hoverlabel": {
           "align": "left"
          },
          "hovermode": "closest",
          "paper_bgcolor": "white",
          "plot_bgcolor": "rgb(237,237,237)",
          "polar": {
           "angularaxis": {
            "gridcolor": "white",
            "linecolor": "white",
            "showgrid": true,
            "tickcolor": "rgb(51,51,51)",
            "ticks": "outside"
           },
           "bgcolor": "rgb(237,237,237)",
           "radialaxis": {
            "gridcolor": "white",
            "linecolor": "white",
            "showgrid": true,
            "tickcolor": "rgb(51,51,51)",
            "ticks": "outside"
           }
          },
          "scene": {
           "xaxis": {
            "backgroundcolor": "rgb(237,237,237)",
            "gridcolor": "white",
            "gridwidth": 2,
            "linecolor": "white",
            "showbackground": true,
            "showgrid": true,
            "tickcolor": "rgb(51,51,51)",
            "ticks": "outside",
            "zerolinecolor": "white"
           },
           "yaxis": {
            "backgroundcolor": "rgb(237,237,237)",
            "gridcolor": "white",
            "gridwidth": 2,
            "linecolor": "white",
            "showbackground": true,
            "showgrid": true,
            "tickcolor": "rgb(51,51,51)",
            "ticks": "outside",
            "zerolinecolor": "white"
           },
           "zaxis": {
            "backgroundcolor": "rgb(237,237,237)",
            "gridcolor": "white",
            "gridwidth": 2,
            "linecolor": "white",
            "showbackground": true,
            "showgrid": true,
            "tickcolor": "rgb(51,51,51)",
            "ticks": "outside",
            "zerolinecolor": "white"
           }
          },
          "shapedefaults": {
           "fillcolor": "black",
           "line": {
            "width": 0
           },
           "opacity": 0.3
          },
          "ternary": {
           "aaxis": {
            "gridcolor": "white",
            "linecolor": "white",
            "showgrid": true,
            "tickcolor": "rgb(51,51,51)",
            "ticks": "outside"
           },
           "baxis": {
            "gridcolor": "white",
            "linecolor": "white",
            "showgrid": true,
            "tickcolor": "rgb(51,51,51)",
            "ticks": "outside"
           },
           "bgcolor": "rgb(237,237,237)",
           "caxis": {
            "gridcolor": "white",
            "linecolor": "white",
            "showgrid": true,
            "tickcolor": "rgb(51,51,51)",
            "ticks": "outside"
           }
          },
          "xaxis": {
           "automargin": true,
           "gridcolor": "white",
           "linecolor": "white",
           "showgrid": true,
           "tickcolor": "rgb(51,51,51)",
           "ticks": "outside",
           "title": {
            "standoff": 15
           },
           "zerolinecolor": "white"
          },
          "yaxis": {
           "automargin": true,
           "gridcolor": "white",
           "linecolor": "white",
           "showgrid": true,
           "tickcolor": "rgb(51,51,51)",
           "ticks": "outside",
           "title": {
            "standoff": 15
           },
           "zerolinecolor": "white"
          }
         }
        },
        "title": {
         "text": "Imagen Rosas"
        },
        "width": 256,
        "xaxis": {
         "anchor": "y",
         "domain": [
          0,
          1
         ]
        },
        "yaxis": {
         "anchor": "x",
         "domain": [
          0,
          1
         ]
        }
       }
      }
     },
     "metadata": {},
     "output_type": "display_data"
    }
   ],
   "source": [
    "fig = px.imshow(img)\n",
    "fig.update_layout(\n",
    "    title = \"Imagen Rosas\",\n",
    "    height = img.shape[0]*2,\n",
    "    width = img.shape[1]*2,\n",
    "    template = \"ggplot2\",\n",
    ")\n",
    "fig.show()"
   ]
  },
  {
   "cell_type": "code",
   "execution_count": 14,
   "id": "957caf4c",
   "metadata": {},
   "outputs": [],
   "source": [
    "height, width, _ = img.shape"
   ]
  },
  {
   "cell_type": "code",
   "execution_count": 23,
   "id": "9fd9e288",
   "metadata": {},
   "outputs": [
    {
     "data": {
      "text/plain": [
       "np.uint8(255)"
      ]
     },
     "execution_count": 23,
     "metadata": {},
     "output_type": "execute_result"
    }
   ],
   "source": [
    "r,g,b = img[0,0]\n",
    "b"
   ]
  },
  {
   "cell_type": "code",
   "execution_count": 24,
   "id": "689eadc2",
   "metadata": {},
   "outputs": [
    {
     "data": {
      "text/plain": [
       "'ffffff'"
      ]
     },
     "execution_count": 24,
     "metadata": {},
     "output_type": "execute_result"
    }
   ],
   "source": [
    "f\"{r:02x}{g:02x}{b:02x}\""
   ]
  },
  {
   "cell_type": "code",
   "execution_count": 29,
   "id": "13b01ceb",
   "metadata": {},
   "outputs": [],
   "source": [
    "import openpyxl.styles\n",
    "\n",
    "\n",
    "wb = openpyxl.Workbook()\n",
    "ws = wb.active\n",
    "for x in range(width):\n",
    "    for y in range(height):\n",
    "        r,g,b = img[y,x]\n",
    "        hex_color = f\"{r:02x}{g:02x}{b:02x}\"\n",
    "        fill = openpyxl.styles.PatternFill(start_color=hex_color, end_color=hex_color, fill_type= \"solid\")\n",
    "        cell = ws.cell(row = y+1, column = x+1)\n",
    "        cell.fill = fill"
   ]
  },
  {
   "cell_type": "code",
   "execution_count": 30,
   "id": "05ea26f3",
   "metadata": {},
   "outputs": [],
   "source": [
    "wb.save(\"./emoji_cowboy.xlsx\")"
   ]
  }
 ],
 "metadata": {
  "kernelspec": {
   "display_name": "Python 3",
   "language": "python",
   "name": "python3"
  },
  "language_info": {
   "codemirror_mode": {
    "name": "ipython",
    "version": 3
   },
   "file_extension": ".py",
   "mimetype": "text/x-python",
   "name": "python",
   "nbconvert_exporter": "python",
   "pygments_lexer": "ipython3",
   "version": "3.12.10"
  }
 },
 "nbformat": 4,
 "nbformat_minor": 5
}
